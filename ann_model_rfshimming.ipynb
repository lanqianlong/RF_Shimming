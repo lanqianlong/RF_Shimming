{
 "cells": [
  {
   "cell_type": "code",
   "execution_count": 1,
   "metadata": {},
   "outputs": [],
   "source": [
    "import matplotlib.pyplot as plt\n",
    "import numpy as np\n",
    "import pandas as pd\n",
    "from sklearn.model_selection import train_test_split\n",
    "from sklearn.model_selection import cross_val_score\n",
    "from sklearn.model_selection import KFold\n",
    "from sklearn.pipeline import Pipeline\n",
    "from sklearn.preprocessing import MinMaxScaler\n",
    "from tensorflow.python.keras.models import Sequential\n",
    "from tensorflow.python.keras.layers import Dense\n",
    "from tensorflow.python.keras.wrappers.scikit_learn import KerasRegressor\n"
   ]
  },
  {
   "cell_type": "code",
   "execution_count": 3,
   "metadata": {},
   "outputs": [
    {
     "data": {
      "text/plain": [
       "'C:\\\\Users\\\\qianl\\\\Desktop\\\\RFShimmingNN'"
      ]
     },
     "execution_count": 3,
     "metadata": {},
     "output_type": "execute_result"
    }
   ],
   "source": [
    "import os;\n",
    "path=\"C:/Users/qianl/Desktop/RFShimmingNN/\"\n",
    "os.chdir(path)\n",
    "os.getcwd()"
   ]
  },
  {
   "cell_type": "code",
   "execution_count": 7,
   "metadata": {},
   "outputs": [],
   "source": [
    "dataset=np.genfromtxt(\"Data_Input.csv\", delimiter=\",\", skip_header = 1)\n"
   ]
  },
  {
   "cell_type": "code",
   "execution_count": 8,
   "metadata": {},
   "outputs": [
    {
     "name": "stdout",
     "output_type": "stream",
     "text": [
      "MinMaxScaler(copy=True, feature_range=(0, 1))\n"
     ]
    }
   ],
   "source": [
    "x = dataset[:, 0:18]\n",
    "y= dataset[:, 18]\n",
    "#y = np.log2(y)\n",
    "y=np.reshape(y, (-1,1))\n",
    "scaler_x = MinMaxScaler()\n",
    "#scaler_y = MinMaxScaler()\n",
    "print(scaler_x.fit(x))\n",
    "xscale=scaler_x.transform(x)\n",
    "#print(scaler_y.fit(y))\n",
    "#yscale=scaler_y.transform(y)"
   ]
  },
  {
   "cell_type": "code",
   "execution_count": 9,
   "metadata": {},
   "outputs": [
    {
     "data": {
      "text/plain": [
       "array([[0.135508  ],\n",
       "       [0.1390055 ],\n",
       "       [0.1427187 ],\n",
       "       ...,\n",
       "       [0.03817661],\n",
       "       [0.04044057],\n",
       "       [0.04251343]])"
      ]
     },
     "execution_count": 9,
     "metadata": {},
     "output_type": "execute_result"
    }
   ],
   "source": [
    "y"
   ]
  },
  {
   "cell_type": "code",
   "execution_count": 11,
   "metadata": {},
   "outputs": [],
   "source": [
    "X_train, X_test, y_train, y_test = train_test_split(xscale, y,test_size=0.3)\n",
    "#X_train, X_test, y_train, y_test = train_test_split(x, y,test_size=0.2)"
   ]
  },
  {
   "cell_type": "code",
   "execution_count": 12,
   "metadata": {},
   "outputs": [
    {
     "name": "stdout",
     "output_type": "stream",
     "text": [
      "Model: \"sequential\"\n",
      "_________________________________________________________________\n",
      "Layer (type)                 Output Shape              Param #   \n",
      "=================================================================\n",
      "dense (Dense)                (None, 64)                1216      \n",
      "_________________________________________________________________\n",
      "dense_1 (Dense)              (None, 24)                1560      \n",
      "_________________________________________________________________\n",
      "dense_2 (Dense)              (None, 16)                400       \n",
      "_________________________________________________________________\n",
      "dense_3 (Dense)              (None, 8)                 136       \n",
      "_________________________________________________________________\n",
      "dense_4 (Dense)              (None, 1)                 9         \n",
      "=================================================================\n",
      "Total params: 3,321\n",
      "Trainable params: 3,321\n",
      "Non-trainable params: 0\n",
      "_________________________________________________________________\n"
     ]
    }
   ],
   "source": [
    "model = Sequential()\n",
    "model.add(Dense(64, input_dim=18, activation='relu'))\n",
    "#model.add(Dense(36, activation='relu'))\n",
    "model.add(Dense(24, activation='relu'))\n",
    "model.add(Dense(16, activation='relu'))\n",
    "model.add(Dense(8, activation='relu'))\n",
    "\n",
    "# model.add(Dense(16, input_dim=10, activation='relu'))\n",
    "# model.add(Dense(12, activation='relu'))\n",
    "# model.add(Dense(10, activation='relu'))\n",
    "model.add(Dense(1, activation='linear'))\n",
    "model.summary()"
   ]
  },
  {
   "cell_type": "code",
   "execution_count": 13,
   "metadata": {},
   "outputs": [],
   "source": [
    "model.compile(loss='mae', optimizer='adam', metrics=['mse','mae'])"
   ]
  },
  {
   "cell_type": "code",
   "execution_count": 14,
   "metadata": {},
   "outputs": [
    {
     "name": "stdout",
     "output_type": "stream",
     "text": [
      "Train on 587201 samples, validate on 146801 samples\n",
      "Epoch 1/300\n",
      "587201/587201 [==============================] - 30s 51us/sample - loss: 0.0109 - mse: 3.1680e-04 - mae: 0.0109 - val_loss: 0.0058 - val_mse: 5.8141e-05 - val_mae: 0.0058\n",
      "Epoch 2/300\n",
      "587201/587201 [==============================] - 28s 48us/sample - loss: 0.0060 - mse: 6.0959e-05 - mae: 0.0060 - val_loss: 0.0070 - val_mse: 7.6218e-05 - val_mae: 0.0070\n",
      "Epoch 3/300\n",
      "587201/587201 [==============================] - 27s 46us/sample - loss: 0.0051 - mse: 4.5235e-05 - mae: 0.0051 - val_loss: 0.0050 - val_mse: 4.3360e-05 - val_mae: 0.0050\n",
      "Epoch 4/300\n",
      "587201/587201 [==============================] - 26s 44us/sample - loss: 0.0046 - mse: 3.7175e-05 - mae: 0.0046 - val_loss: 0.0041 - val_mse: 2.9737e-05 - val_mae: 0.0041\n",
      "Epoch 5/300\n",
      "587201/587201 [==============================] - 28s 48us/sample - loss: 0.0044 - mse: 3.3044e-05 - mae: 0.0044 - val_loss: 0.0076 - val_mse: 8.2513e-05 - val_mae: 0.0076\n",
      "Epoch 6/300\n",
      "587201/587201 [==============================] - 28s 47us/sample - loss: 0.0041 - mse: 3.0021e-05 - mae: 0.0041 - val_loss: 0.0044 - val_mse: 3.1586e-05 - val_mae: 0.0044\n",
      "Epoch 7/300\n",
      "587201/587201 [==============================] - 28s 48us/sample - loss: 0.0040 - mse: 2.7538e-05 - mae: 0.0040 - val_loss: 0.0049 - val_mse: 4.0764e-05 - val_mae: 0.0049\n",
      "Epoch 8/300\n",
      "587201/587201 [==============================] - 28s 48us/sample - loss: 0.0038 - mse: 2.5642e-05 - mae: 0.0038 - val_loss: 0.0037 - val_mse: 2.3219e-05 - val_mae: 0.0037\n",
      "Epoch 9/300\n",
      "587201/587201 [==============================] - 28s 48us/sample - loss: 0.0037 - mse: 2.4329e-05 - mae: 0.0037 - val_loss: 0.0043 - val_mse: 3.0920e-05 - val_mae: 0.0043\n",
      "Epoch 10/300\n",
      "587201/587201 [==============================] - 28s 48us/sample - loss: 0.0036 - mse: 2.3201e-05 - mae: 0.0036 - val_loss: 0.0037 - val_mse: 2.4913e-05 - val_mae: 0.0037\n",
      "Epoch 11/300\n",
      "587201/587201 [==============================] - 28s 48us/sample - loss: 0.0036 - mse: 2.2369e-05 - mae: 0.0036 - val_loss: 0.0046 - val_mse: 3.5280e-05 - val_mae: 0.0046\n",
      "Epoch 12/300\n",
      "587201/587201 [==============================] - 30s 52us/sample - loss: 0.0035 - mse: 2.1668e-05 - mae: 0.0035 - val_loss: 0.0039 - val_mse: 2.5139e-05 - val_mae: 0.0039\n",
      "Epoch 13/300\n",
      "587201/587201 [==============================] - 30s 51us/sample - loss: 0.0035 - mse: 2.0968e-05 - mae: 0.0035 - val_loss: 0.0032 - val_mse: 1.7889e-05 - val_mae: 0.0032\n",
      "Epoch 14/300\n",
      "587201/587201 [==============================] - 28s 48us/sample - loss: 0.0034 - mse: 2.0475e-05 - mae: 0.0034 - val_loss: 0.0045 - val_mse: 3.3617e-05 - val_mae: 0.0045\n",
      "Epoch 15/300\n",
      "587201/587201 [==============================] - 28s 48us/sample - loss: 0.0034 - mse: 2.0098e-05 - mae: 0.0034 - val_loss: 0.0032 - val_mse: 1.8249e-05 - val_mae: 0.0032\n",
      "Epoch 16/300\n",
      "587201/587201 [==============================] - 28s 48us/sample - loss: 0.0033 - mse: 1.9606e-05 - mae: 0.0033 - val_loss: 0.0043 - val_mse: 3.0644e-05 - val_mae: 0.0043\n",
      "Epoch 17/300\n",
      "587201/587201 [==============================] - 28s 48us/sample - loss: 0.0033 - mse: 1.9282e-05 - mae: 0.0033 - val_loss: 0.0044 - val_mse: 3.1336e-05 - val_mae: 0.0044\n",
      "Epoch 18/300\n",
      "587201/587201 [==============================] - 28s 48us/sample - loss: 0.0033 - mse: 1.8643e-05 - mae: 0.0033 - val_loss: 0.0042 - val_mse: 3.3198e-05 - val_mae: 0.0042\n",
      "Epoch 19/300\n",
      "587201/587201 [==============================] - 28s 48us/sample - loss: 0.0033 - mse: 1.8638e-05 - mae: 0.0033 - val_loss: 0.0040 - val_mse: 2.5527e-05 - val_mae: 0.0040\n",
      "Epoch 20/300\n",
      "587201/587201 [==============================] - 28s 48us/sample - loss: 0.0032 - mse: 1.8215e-05 - mae: 0.0032 - val_loss: 0.0029 - val_mse: 1.5110e-05 - val_mae: 0.0029\n",
      "Epoch 21/300\n",
      "587201/587201 [==============================] - 28s 47us/sample - loss: 0.0032 - mse: 1.7794e-05 - mae: 0.0032 - val_loss: 0.0042 - val_mse: 2.8233e-05 - val_mae: 0.0042\n",
      "Epoch 22/300\n",
      "587201/587201 [==============================] - 28s 48us/sample - loss: 0.0032 - mse: 1.7553e-05 - mae: 0.0032 - val_loss: 0.0037 - val_mse: 2.3081e-05 - val_mae: 0.0037\n",
      "Epoch 23/300\n",
      "587201/587201 [==============================] - 28s 48us/sample - loss: 0.0031 - mse: 1.7305e-05 - mae: 0.0031 - val_loss: 0.0054 - val_mse: 4.7976e-05 - val_mae: 0.0054\n",
      "Epoch 24/300\n",
      "587201/587201 [==============================] - 29s 50us/sample - loss: 0.0031 - mse: 1.7157e-05 - mae: 0.0031 - val_loss: 0.0049 - val_mse: 3.8529e-05 - val_mae: 0.0049\n",
      "Epoch 25/300\n",
      "587201/587201 [==============================] - 28s 48us/sample - loss: 0.0031 - mse: 1.6842e-05 - mae: 0.0031 - val_loss: 0.0040 - val_mse: 2.8215e-05 - val_mae: 0.0040\n",
      "Epoch 26/300\n",
      "587201/587201 [==============================] - 28s 48us/sample - loss: 0.0031 - mse: 1.6637e-05 - mae: 0.0031 - val_loss: 0.0037 - val_mse: 2.3540e-05 - val_mae: 0.0037\n",
      "Epoch 27/300\n",
      "587201/587201 [==============================] - 28s 48us/sample - loss: 0.0031 - mse: 1.6461e-05 - mae: 0.0031 - val_loss: 0.0046 - val_mse: 3.2593e-05 - val_mae: 0.0046\n",
      "Epoch 28/300\n",
      "587201/587201 [==============================] - 28s 48us/sample - loss: 0.0030 - mse: 1.6274e-05 - mae: 0.0030 - val_loss: 0.0038 - val_mse: 2.6491e-05 - val_mae: 0.0038\n",
      "Epoch 29/300\n",
      "587201/587201 [==============================] - 28s 47us/sample - loss: 0.0030 - mse: 1.6141e-05 - mae: 0.0030 - val_loss: 0.0032 - val_mse: 1.6761e-05 - val_mae: 0.0032\n",
      "Epoch 30/300\n",
      "587201/587201 [==============================] - 28s 48us/sample - loss: 0.0030 - mse: 1.5899e-05 - mae: 0.0030 - val_loss: 0.0060 - val_mse: 5.3052e-05 - val_mae: 0.0060\n",
      "Epoch 31/300\n",
      "587201/587201 [==============================] - 28s 48us/sample - loss: 0.0030 - mse: 1.5888e-05 - mae: 0.0030 - val_loss: 0.0055 - val_mse: 4.7531e-05 - val_mae: 0.0055\n",
      "Epoch 32/300\n",
      "587201/587201 [==============================] - 28s 48us/sample - loss: 0.0030 - mse: 1.5726e-05 - mae: 0.0030 - val_loss: 0.0032 - val_mse: 1.9014e-05 - val_mae: 0.0032\n",
      "Epoch 33/300\n",
      "587201/587201 [==============================] - 28s 48us/sample - loss: 0.0030 - mse: 1.5489e-05 - mae: 0.0030 - val_loss: 0.0053 - val_mse: 4.7825e-05 - val_mae: 0.0053\n",
      "Epoch 34/300\n",
      "587201/587201 [==============================] - 28s 48us/sample - loss: 0.0029 - mse: 1.5375e-05 - mae: 0.0029 - val_loss: 0.0051 - val_mse: 4.0271e-05 - val_mae: 0.0051\n",
      "Epoch 35/300\n",
      "587201/587201 [==============================] - 30s 50us/sample - loss: 0.0030 - mse: 1.5449e-05 - mae: 0.0030 - val_loss: 0.0045 - val_mse: 2.9815e-05 - val_mae: 0.0045\n",
      "Epoch 36/300\n",
      "587201/587201 [==============================] - 28s 48us/sample - loss: 0.0029 - mse: 1.5227e-05 - mae: 0.0029 - val_loss: 0.0039 - val_mse: 2.4312e-05 - val_mae: 0.0039\n",
      "Epoch 37/300\n",
      "587201/587201 [==============================] - 27s 47us/sample - loss: 0.0029 - mse: 1.5055e-05 - mae: 0.0029 - val_loss: 0.0032 - val_mse: 1.7309e-05 - val_mae: 0.0032\n",
      "Epoch 38/300\n",
      "587201/587201 [==============================] - 27s 47us/sample - loss: 0.0029 - mse: 1.4968e-05 - mae: 0.0029 - val_loss: 0.0034 - val_mse: 2.0692e-05 - val_mae: 0.0034\n",
      "Epoch 39/300\n",
      "587201/587201 [==============================] - 28s 47us/sample - loss: 0.0029 - mse: 1.4964e-05 - mae: 0.0029 - val_loss: 0.0043 - val_mse: 2.8783e-05 - val_mae: 0.0043\n",
      "Epoch 40/300\n",
      "587201/587201 [==============================] - 27s 47us/sample - loss: 0.0029 - mse: 1.4709e-05 - mae: 0.0029 - val_loss: 0.0051 - val_mse: 3.9607e-05 - val_mae: 0.0051\n",
      "Epoch 41/300\n",
      "587201/587201 [==============================] - 27s 47us/sample - loss: 0.0029 - mse: 1.4689e-05 - mae: 0.0029 - val_loss: 0.0029 - val_mse: 1.4694e-05 - val_mae: 0.0029\n",
      "Epoch 42/300\n",
      "587201/587201 [==============================] - 27s 46us/sample - loss: 0.0029 - mse: 1.4769e-05 - mae: 0.0029 - val_loss: 0.0028 - val_mse: 1.4117e-05 - val_mae: 0.0028\n",
      "Epoch 43/300\n",
      "587201/587201 [==============================] - 27s 47us/sample - loss: 0.0029 - mse: 1.4628e-05 - mae: 0.0029 - val_loss: 0.0034 - val_mse: 1.8747e-05 - val_mae: 0.0034\n",
      "Epoch 44/300\n",
      "587201/587201 [==============================] - 27s 47us/sample - loss: 0.0029 - mse: 1.4564e-05 - mae: 0.0029 - val_loss: 0.0040 - val_mse: 2.8157e-05 - val_mae: 0.0040\n",
      "Epoch 45/300\n"
     ]
    },
    {
     "name": "stdout",
     "output_type": "stream",
     "text": [
      "587201/587201 [==============================] - 28s 47us/sample - loss: 0.0029 - mse: 1.4604e-05 - mae: 0.0029 - val_loss: 0.0031 - val_mse: 1.6800e-05 - val_mae: 0.0031\n",
      "Epoch 46/300\n",
      "587201/587201 [==============================] - 28s 48us/sample - loss: 0.0028 - mse: 1.4382e-05 - mae: 0.0028 - val_loss: 0.0039 - val_mse: 2.6417e-05 - val_mae: 0.0039\n",
      "Epoch 47/300\n",
      "587201/587201 [==============================] - 28s 47us/sample - loss: 0.0028 - mse: 1.4313e-05 - mae: 0.0028 - val_loss: 0.0026 - val_mse: 1.2315e-05 - val_mae: 0.0026\n",
      "Epoch 48/300\n",
      "587201/587201 [==============================] - 28s 47us/sample - loss: 0.0029 - mse: 1.4455e-05 - mae: 0.0029 - val_loss: 0.0039 - val_mse: 2.4327e-05 - val_mae: 0.0039\n",
      "Epoch 49/300\n",
      "587201/587201 [==============================] - 28s 47us/sample - loss: 0.0028 - mse: 1.4281e-05 - mae: 0.0028 - val_loss: 0.0037 - val_mse: 2.2775e-05 - val_mae: 0.0037\n",
      "Epoch 50/300\n",
      "587201/587201 [==============================] - 28s 47us/sample - loss: 0.0028 - mse: 1.4223e-05 - mae: 0.0028 - val_loss: 0.0029 - val_mse: 1.4003e-05 - val_mae: 0.0029\n",
      "Epoch 51/300\n",
      "587201/587201 [==============================] - 28s 47us/sample - loss: 0.0028 - mse: 1.4151e-05 - mae: 0.0028 - val_loss: 0.0029 - val_mse: 1.4080e-05 - val_mae: 0.0029\n",
      "Epoch 52/300\n",
      "587201/587201 [==============================] - 28s 47us/sample - loss: 0.0028 - mse: 1.4156e-05 - mae: 0.0028 - val_loss: 0.0036 - val_mse: 2.1432e-05 - val_mae: 0.0036\n",
      "Epoch 53/300\n",
      "587201/587201 [==============================] - 27s 47us/sample - loss: 0.0028 - mse: 1.4180e-05 - mae: 0.0028 - val_loss: 0.0033 - val_mse: 1.8309e-05 - val_mae: 0.0033\n",
      "Epoch 54/300\n",
      "587201/587201 [==============================] - 28s 47us/sample - loss: 0.0028 - mse: 1.4130e-05 - mae: 0.0028 - val_loss: 0.0030 - val_mse: 1.6502e-05 - val_mae: 0.0030\n",
      "Epoch 55/300\n",
      "587201/587201 [==============================] - 27s 47us/sample - loss: 0.0028 - mse: 1.4065e-05 - mae: 0.0028 - val_loss: 0.0050 - val_mse: 3.9354e-05 - val_mae: 0.0050\n",
      "Epoch 56/300\n",
      "587201/587201 [==============================] - 28s 47us/sample - loss: 0.0028 - mse: 1.3999e-05 - mae: 0.0028 - val_loss: 0.0047 - val_mse: 4.0736e-05 - val_mae: 0.0047\n",
      "Epoch 57/300\n",
      "587201/587201 [==============================] - 28s 47us/sample - loss: 0.0028 - mse: 1.4021e-05 - mae: 0.0028 - val_loss: 0.0037 - val_mse: 2.1754e-05 - val_mae: 0.0037\n",
      "Epoch 58/300\n",
      "587201/587201 [==============================] - 29s 49us/sample - loss: 0.0028 - mse: 1.3972e-05 - mae: 0.0028 - val_loss: 0.0037 - val_mse: 2.3368e-05 - val_mae: 0.0037\n",
      "Epoch 59/300\n",
      "587201/587201 [==============================] - 28s 47us/sample - loss: 0.0028 - mse: 1.3858e-05 - mae: 0.0028 - val_loss: 0.0028 - val_mse: 1.3942e-05 - val_mae: 0.0028\n",
      "Epoch 60/300\n",
      "587201/587201 [==============================] - 27s 47us/sample - loss: 0.0028 - mse: 1.3837e-05 - mae: 0.0028 - val_loss: 0.0040 - val_mse: 2.5843e-05 - val_mae: 0.0040\n",
      "Epoch 61/300\n",
      "587201/587201 [==============================] - 28s 47us/sample - loss: 0.0028 - mse: 1.3703e-05 - mae: 0.0028 - val_loss: 0.0039 - val_mse: 2.6868e-05 - val_mae: 0.0039\n",
      "Epoch 62/300\n",
      "587201/587201 [==============================] - 27s 47us/sample - loss: 0.0028 - mse: 1.3831e-05 - mae: 0.0028 - val_loss: 0.0027 - val_mse: 1.2527e-05 - val_mae: 0.0027\n",
      "Epoch 63/300\n",
      "587201/587201 [==============================] - 27s 47us/sample - loss: 0.0028 - mse: 1.3735e-05 - mae: 0.0028 - val_loss: 0.0043 - val_mse: 2.9141e-05 - val_mae: 0.0043\n",
      "Epoch 64/300\n",
      "587201/587201 [==============================] - 28s 47us/sample - loss: 0.0028 - mse: 1.3772e-05 - mae: 0.0028 - val_loss: 0.0032 - val_mse: 1.8129e-05 - val_mae: 0.0032\n",
      "Epoch 65/300\n",
      "587201/587201 [==============================] - 28s 47us/sample - loss: 0.0028 - mse: 1.3738e-05 - mae: 0.0028 - val_loss: 0.0028 - val_mse: 1.4395e-05 - val_mae: 0.0028\n",
      "Epoch 66/300\n",
      "587201/587201 [==============================] - 27s 47us/sample - loss: 0.0028 - mse: 1.3573e-05 - mae: 0.0028 - val_loss: 0.0025 - val_mse: 1.1368e-05 - val_mae: 0.0025\n",
      "Epoch 67/300\n",
      "587201/587201 [==============================] - 27s 47us/sample - loss: 0.0028 - mse: 1.3658e-05 - mae: 0.0028 - val_loss: 0.0029 - val_mse: 1.4168e-05 - val_mae: 0.0029\n",
      "Epoch 68/300\n",
      "587201/587201 [==============================] - 27s 47us/sample - loss: 0.0028 - mse: 1.3529e-05 - mae: 0.0028 - val_loss: 0.0051 - val_mse: 3.8693e-05 - val_mae: 0.0051\n",
      "Epoch 69/300\n",
      "587201/587201 [==============================] - 29s 49us/sample - loss: 0.0028 - mse: 1.3491e-05 - mae: 0.0028 - val_loss: 0.0042 - val_mse: 3.0197e-05 - val_mae: 0.0042\n",
      "Epoch 70/300\n",
      "587201/587201 [==============================] - 28s 47us/sample - loss: 0.0028 - mse: 1.3537e-05 - mae: 0.0028 - val_loss: 0.0029 - val_mse: 1.4017e-05 - val_mae: 0.0029\n",
      "Epoch 71/300\n",
      "587201/587201 [==============================] - 27s 47us/sample - loss: 0.0028 - mse: 1.3490e-05 - mae: 0.0028 - val_loss: 0.0026 - val_mse: 1.1737e-05 - val_mae: 0.0026\n",
      "Epoch 72/300\n",
      "587201/587201 [==============================] - 27s 47us/sample - loss: 0.0028 - mse: 1.3523e-05 - mae: 0.0028 - val_loss: 0.0029 - val_mse: 1.5038e-05 - val_mae: 0.0029\n",
      "Epoch 73/300\n",
      "587201/587201 [==============================] - 27s 47us/sample - loss: 0.0027 - mse: 1.3292e-05 - mae: 0.0027 - val_loss: 0.0026 - val_mse: 1.1534e-05 - val_mae: 0.0026\n",
      "Epoch 74/300\n",
      "587201/587201 [==============================] - 27s 47us/sample - loss: 0.0027 - mse: 1.3281e-05 - mae: 0.0027 - val_loss: 0.0028 - val_mse: 1.3893e-05 - val_mae: 0.0028\n",
      "Epoch 75/300\n",
      "587201/587201 [==============================] - 27s 47us/sample - loss: 0.0027 - mse: 1.3425e-05 - mae: 0.0027 - val_loss: 0.0046 - val_mse: 3.2313e-05 - val_mae: 0.0046\n",
      "Epoch 76/300\n",
      "587201/587201 [==============================] - 27s 47us/sample - loss: 0.0027 - mse: 1.3250e-05 - mae: 0.0027 - val_loss: 0.0040 - val_mse: 2.5870e-05 - val_mae: 0.0040\n",
      "Epoch 77/300\n",
      "587201/587201 [==============================] - 27s 47us/sample - loss: 0.0028 - mse: 1.3432e-05 - mae: 0.0028 - val_loss: 0.0025 - val_mse: 1.1325e-05 - val_mae: 0.0025\n",
      "Epoch 78/300\n",
      "587201/587201 [==============================] - 27s 47us/sample - loss: 0.0027 - mse: 1.3284e-05 - mae: 0.0027 - val_loss: 0.0033 - val_mse: 1.7862e-05 - val_mae: 0.0033\n",
      "Epoch 79/300\n",
      "587201/587201 [==============================] - 27s 47us/sample - loss: 0.0027 - mse: 1.3312e-05 - mae: 0.0027 - val_loss: 0.0051 - val_mse: 3.6930e-05 - val_mae: 0.0051\n",
      "Epoch 80/300\n",
      "587201/587201 [==============================] - 28s 48us/sample - loss: 0.0027 - mse: 1.3215e-05 - mae: 0.0027 - val_loss: 0.0028 - val_mse: 1.3384e-05 - val_mae: 0.0028\n",
      "Epoch 81/300\n",
      "587201/587201 [==============================] - 27s 47us/sample - loss: 0.0027 - mse: 1.3110e-05 - mae: 0.0027 - val_loss: 0.0029 - val_mse: 1.4684e-05 - val_mae: 0.0029\n",
      "Epoch 82/300\n",
      "587201/587201 [==============================] - 28s 47us/sample - loss: 0.0027 - mse: 1.3096e-05 - mae: 0.0027 - val_loss: 0.0026 - val_mse: 1.1994e-05 - val_mae: 0.0026\n",
      "Epoch 83/300\n",
      "587201/587201 [==============================] - 27s 47us/sample - loss: 0.0027 - mse: 1.3160e-05 - mae: 0.0027 - val_loss: 0.0030 - val_mse: 1.6438e-05 - val_mae: 0.0030\n",
      "Epoch 84/300\n",
      "587201/587201 [==============================] - 27s 47us/sample - loss: 0.0027 - mse: 1.3115e-05 - mae: 0.0027 - val_loss: 0.0030 - val_mse: 1.5810e-05 - val_mae: 0.0030\n",
      "Epoch 85/300\n",
      "587201/587201 [==============================] - 27s 46us/sample - loss: 0.0027 - mse: 1.3116e-05 - mae: 0.0027 - val_loss: 0.0044 - val_mse: 3.1058e-05 - val_mae: 0.0044\n",
      "Epoch 86/300\n",
      "587201/587201 [==============================] - 27s 47us/sample - loss: 0.0027 - mse: 1.3097e-05 - mae: 0.0027 - val_loss: 0.0034 - val_mse: 1.8357e-05 - val_mae: 0.0034\n",
      "Epoch 87/300\n",
      "587201/587201 [==============================] - 27s 47us/sample - loss: 0.0027 - mse: 1.3027e-05 - mae: 0.0027 - val_loss: 0.0026 - val_mse: 1.1586e-05 - val_mae: 0.0026\n",
      "Epoch 88/300\n",
      "587201/587201 [==============================] - 27s 47us/sample - loss: 0.0027 - mse: 1.2985e-05 - mae: 0.0027 - val_loss: 0.0057 - val_mse: 5.5525e-05 - val_mae: 0.0057\n",
      "Epoch 89/300\n"
     ]
    },
    {
     "name": "stdout",
     "output_type": "stream",
     "text": [
      "587201/587201 [==============================] - 27s 46us/sample - loss: 0.0027 - mse: 1.3103e-05 - mae: 0.0027 - val_loss: 0.0034 - val_mse: 1.8604e-05 - val_mae: 0.0034\n",
      "Epoch 90/300\n",
      "587201/587201 [==============================] - 27s 47us/sample - loss: 0.0027 - mse: 1.2937e-05 - mae: 0.0027 - val_loss: 0.0031 - val_mse: 1.5528e-05 - val_mae: 0.0031\n",
      "Epoch 91/300\n",
      "587201/587201 [==============================] - 28s 47us/sample - loss: 0.0027 - mse: 1.2977e-05 - mae: 0.0027 - val_loss: 0.0034 - val_mse: 1.9059e-05 - val_mae: 0.0034\n",
      "Epoch 92/300\n",
      "587201/587201 [==============================] - 29s 49us/sample - loss: 0.0027 - mse: 1.2864e-05 - mae: 0.0027 - val_loss: 0.0048 - val_mse: 3.6566e-05 - val_mae: 0.0048\n",
      "Epoch 93/300\n",
      "587201/587201 [==============================] - 28s 47us/sample - loss: 0.0027 - mse: 1.2894e-05 - mae: 0.0027 - val_loss: 0.0032 - val_mse: 1.7965e-05 - val_mae: 0.0032\n",
      "Epoch 94/300\n",
      "587201/587201 [==============================] - 27s 47us/sample - loss: 0.0027 - mse: 1.3039e-05 - mae: 0.0027 - val_loss: 0.0027 - val_mse: 1.2840e-05 - val_mae: 0.0027\n",
      "Epoch 95/300\n",
      "587201/587201 [==============================] - 28s 47us/sample - loss: 0.0027 - mse: 1.2801e-05 - mae: 0.0027 - val_loss: 0.0030 - val_mse: 1.5897e-05 - val_mae: 0.0030\n",
      "Epoch 96/300\n",
      "587201/587201 [==============================] - 28s 47us/sample - loss: 0.0027 - mse: 1.2761e-05 - mae: 0.0027 - val_loss: 0.0045 - val_mse: 3.8160e-05 - val_mae: 0.0045\n",
      "Epoch 97/300\n",
      "587201/587201 [==============================] - 27s 47us/sample - loss: 0.0027 - mse: 1.2900e-05 - mae: 0.0027 - val_loss: 0.0027 - val_mse: 1.2638e-05 - val_mae: 0.0027\n",
      "Epoch 98/300\n",
      "587201/587201 [==============================] - 28s 47us/sample - loss: 0.0027 - mse: 1.2808e-05 - mae: 0.0027 - val_loss: 0.0033 - val_mse: 1.7996e-05 - val_mae: 0.0033\n",
      "Epoch 99/300\n",
      "587201/587201 [==============================] - 27s 47us/sample - loss: 0.0027 - mse: 1.2675e-05 - mae: 0.0027 - val_loss: 0.0027 - val_mse: 1.3141e-05 - val_mae: 0.0027\n",
      "Epoch 100/300\n",
      "587201/587201 [==============================] - 27s 47us/sample - loss: 0.0027 - mse: 1.2683e-05 - mae: 0.0027 - val_loss: 0.0028 - val_mse: 1.3502e-05 - val_mae: 0.0028\n",
      "Epoch 101/300\n",
      "587201/587201 [==============================] - 27s 47us/sample - loss: 0.0027 - mse: 1.2636e-05 - mae: 0.0027 - val_loss: 0.0030 - val_mse: 1.5314e-05 - val_mae: 0.0030\n",
      "Epoch 102/300\n",
      "587201/587201 [==============================] - 27s 47us/sample - loss: 0.0027 - mse: 1.2633e-05 - mae: 0.0027 - val_loss: 0.0042 - val_mse: 2.9159e-05 - val_mae: 0.0042\n",
      "Epoch 103/300\n",
      "587201/587201 [==============================] - 29s 49us/sample - loss: 0.0027 - mse: 1.2588e-05 - mae: 0.0027 - val_loss: 0.0057 - val_mse: 4.4184e-05 - val_mae: 0.0057\n",
      "Epoch 104/300\n",
      "587201/587201 [==============================] - 27s 47us/sample - loss: 0.0027 - mse: 1.2573e-05 - mae: 0.0027 - val_loss: 0.0028 - val_mse: 1.4266e-05 - val_mae: 0.0028\n",
      "Epoch 105/300\n",
      "587201/587201 [==============================] - 27s 47us/sample - loss: 0.0027 - mse: 1.2594e-05 - mae: 0.0027 - val_loss: 0.0035 - val_mse: 1.9947e-05 - val_mae: 0.0035\n",
      "Epoch 106/300\n",
      "587201/587201 [==============================] - 27s 46us/sample - loss: 0.0027 - mse: 1.2517e-05 - mae: 0.0027 - val_loss: 0.0031 - val_mse: 1.5728e-05 - val_mae: 0.0031\n",
      "Epoch 107/300\n",
      "587201/587201 [==============================] - 27s 47us/sample - loss: 0.0027 - mse: 1.2495e-05 - mae: 0.0027 - val_loss: 0.0029 - val_mse: 1.4099e-05 - val_mae: 0.0029\n",
      "Epoch 108/300\n",
      "587201/587201 [==============================] - 27s 47us/sample - loss: 0.0027 - mse: 1.2503e-05 - mae: 0.0027 - val_loss: 0.0025 - val_mse: 1.1412e-05 - val_mae: 0.0025\n",
      "Epoch 109/300\n",
      "587201/587201 [==============================] - 27s 47us/sample - loss: 0.0026 - mse: 1.2450e-05 - mae: 0.0026 - val_loss: 0.0028 - val_mse: 1.3731e-05 - val_mae: 0.0028\n",
      "Epoch 110/300\n",
      "587201/587201 [==============================] - 27s 47us/sample - loss: 0.0026 - mse: 1.2357e-05 - mae: 0.0026 - val_loss: 0.0034 - val_mse: 1.9983e-05 - val_mae: 0.0034\n",
      "Epoch 111/300\n",
      "587201/587201 [==============================] - 27s 47us/sample - loss: 0.0027 - mse: 1.2521e-05 - mae: 0.0027 - val_loss: 0.0040 - val_mse: 2.5842e-05 - val_mae: 0.0040\n",
      "Epoch 112/300\n",
      "587201/587201 [==============================] - 27s 47us/sample - loss: 0.0026 - mse: 1.2375e-05 - mae: 0.0026 - val_loss: 0.0028 - val_mse: 1.3739e-05 - val_mae: 0.0028\n",
      "Epoch 113/300\n",
      "587201/587201 [==============================] - 27s 47us/sample - loss: 0.0026 - mse: 1.2344e-05 - mae: 0.0026 - val_loss: 0.0034 - val_mse: 1.9382e-05 - val_mae: 0.0034\n",
      "Epoch 114/300\n",
      "587201/587201 [==============================] - 28s 48us/sample - loss: 0.0026 - mse: 1.2380e-05 - mae: 0.0026 - val_loss: 0.0026 - val_mse: 1.2560e-05 - val_mae: 0.0026\n",
      "Epoch 115/300\n",
      "587201/587201 [==============================] - 27s 46us/sample - loss: 0.0026 - mse: 1.2362e-05 - mae: 0.0026 - val_loss: 0.0035 - val_mse: 1.9605e-05 - val_mae: 0.0035\n",
      "Epoch 116/300\n",
      "587201/587201 [==============================] - 27s 47us/sample - loss: 0.0026 - mse: 1.2355e-05 - mae: 0.0026 - val_loss: 0.0028 - val_mse: 1.3902e-05 - val_mae: 0.0028\n",
      "Epoch 117/300\n",
      "587201/587201 [==============================] - 27s 47us/sample - loss: 0.0026 - mse: 1.2160e-05 - mae: 0.0026 - val_loss: 0.0054 - val_mse: 4.6766e-05 - val_mae: 0.0054\n",
      "Epoch 118/300\n",
      "587201/587201 [==============================] - 27s 47us/sample - loss: 0.0026 - mse: 1.2264e-05 - mae: 0.0026 - val_loss: 0.0025 - val_mse: 1.1096e-05 - val_mae: 0.0025\n",
      "Epoch 119/300\n",
      "587201/587201 [==============================] - 28s 47us/sample - loss: 0.0026 - mse: 1.2228e-05 - mae: 0.0026 - val_loss: 0.0062 - val_mse: 5.4374e-05 - val_mae: 0.0062\n",
      "Epoch 120/300\n",
      "587201/587201 [==============================] - 27s 47us/sample - loss: 0.0026 - mse: 1.2269e-05 - mae: 0.0026 - val_loss: 0.0042 - val_mse: 2.6948e-05 - val_mae: 0.0042\n",
      "Epoch 121/300\n",
      "587201/587201 [==============================] - 27s 47us/sample - loss: 0.0026 - mse: 1.2196e-05 - mae: 0.0026 - val_loss: 0.0039 - val_mse: 2.3768e-05 - val_mae: 0.0039\n",
      "Epoch 122/300\n",
      "587201/587201 [==============================] - 27s 47us/sample - loss: 0.0026 - mse: 1.2201e-05 - mae: 0.0026 - val_loss: 0.0047 - val_mse: 3.6929e-05 - val_mae: 0.0047\n",
      "Epoch 123/300\n",
      "587201/587201 [==============================] - 27s 47us/sample - loss: 0.0026 - mse: 1.2100e-05 - mae: 0.0026 - val_loss: 0.0031 - val_mse: 1.5398e-05 - val_mae: 0.0031\n",
      "Epoch 124/300\n",
      "587201/587201 [==============================] - 27s 47us/sample - loss: 0.0026 - mse: 1.2141e-05 - mae: 0.0026 - val_loss: 0.0032 - val_mse: 1.7082e-05 - val_mae: 0.0032\n",
      "Epoch 125/300\n",
      "587201/587201 [==============================] - 27s 47us/sample - loss: 0.0026 - mse: 1.2099e-05 - mae: 0.0026 - val_loss: 0.0028 - val_mse: 1.3903e-05 - val_mae: 0.0028\n",
      "Epoch 126/300\n",
      "587201/587201 [==============================] - 29s 49us/sample - loss: 0.0026 - mse: 1.2032e-05 - mae: 0.0026 - val_loss: 0.0046 - val_mse: 3.2842e-05 - val_mae: 0.0046\n",
      "Epoch 127/300\n",
      "587201/587201 [==============================] - 27s 47us/sample - loss: 0.0026 - mse: 1.2059e-05 - mae: 0.0026 - val_loss: 0.0049 - val_mse: 4.1090e-05 - val_mae: 0.0049\n",
      "Epoch 128/300\n",
      "587201/587201 [==============================] - 27s 47us/sample - loss: 0.0026 - mse: 1.2106e-05 - mae: 0.0026 - val_loss: 0.0027 - val_mse: 1.2727e-05 - val_mae: 0.0027\n",
      "Epoch 129/300\n",
      "587201/587201 [==============================] - 27s 47us/sample - loss: 0.0026 - mse: 1.2025e-05 - mae: 0.0026 - val_loss: 0.0024 - val_mse: 1.0580e-05 - val_mae: 0.0024\n",
      "Epoch 130/300\n",
      "587201/587201 [==============================] - 28s 47us/sample - loss: 0.0026 - mse: 1.2012e-05 - mae: 0.0026 - val_loss: 0.0028 - val_mse: 1.3866e-05 - val_mae: 0.0028\n",
      "Epoch 131/300\n",
      "587201/587201 [==============================] - 27s 47us/sample - loss: 0.0026 - mse: 1.1978e-05 - mae: 0.0026 - val_loss: 0.0037 - val_mse: 2.2216e-05 - val_mae: 0.0037\n",
      "Epoch 132/300\n",
      "587201/587201 [==============================] - 27s 47us/sample - loss: 0.0026 - mse: 1.1944e-05 - mae: 0.0026 - val_loss: 0.0035 - val_mse: 2.0966e-05 - val_mae: 0.0035\n",
      "Epoch 133/300\n"
     ]
    },
    {
     "name": "stdout",
     "output_type": "stream",
     "text": [
      "587201/587201 [==============================] - 28s 47us/sample - loss: 0.0026 - mse: 1.2040e-05 - mae: 0.0026 - val_loss: 0.0039 - val_mse: 2.2505e-05 - val_mae: 0.0039\n",
      "Epoch 134/300\n",
      "587201/587201 [==============================] - 27s 47us/sample - loss: 0.0026 - mse: 1.1968e-05 - mae: 0.0026 - val_loss: 0.0035 - val_mse: 2.0891e-05 - val_mae: 0.0035\n",
      "Epoch 135/300\n",
      "587201/587201 [==============================] - 28s 47us/sample - loss: 0.0026 - mse: 1.1948e-05 - mae: 0.0026 - val_loss: 0.0027 - val_mse: 1.3078e-05 - val_mae: 0.0027\n",
      "Epoch 136/300\n",
      "587201/587201 [==============================] - 28s 47us/sample - loss: 0.0026 - mse: 1.1976e-05 - mae: 0.0026 - val_loss: 0.0038 - val_mse: 2.3508e-05 - val_mae: 0.0038\n",
      "Epoch 137/300\n",
      "587201/587201 [==============================] - 29s 49us/sample - loss: 0.0026 - mse: 1.1945e-05 - mae: 0.0026 - val_loss: 0.0034 - val_mse: 1.9657e-05 - val_mae: 0.0034\n",
      "Epoch 138/300\n",
      "587201/587201 [==============================] - 27s 47us/sample - loss: 0.0026 - mse: 1.1931e-05 - mae: 0.0026 - val_loss: 0.0026 - val_mse: 1.2007e-05 - val_mae: 0.0026\n",
      "Epoch 139/300\n",
      "587201/587201 [==============================] - 28s 47us/sample - loss: 0.0026 - mse: 1.1995e-05 - mae: 0.0026 - val_loss: 0.0063 - val_mse: 5.6343e-05 - val_mae: 0.0063\n",
      "Epoch 140/300\n",
      "587201/587201 [==============================] - 27s 47us/sample - loss: 0.0026 - mse: 1.1876e-05 - mae: 0.0026 - val_loss: 0.0025 - val_mse: 1.1198e-05 - val_mae: 0.0025\n",
      "Epoch 141/300\n",
      "587201/587201 [==============================] - 27s 47us/sample - loss: 0.0026 - mse: 1.1781e-05 - mae: 0.0026 - val_loss: 0.0032 - val_mse: 1.7923e-05 - val_mae: 0.0032\n",
      "Epoch 142/300\n",
      "587201/587201 [==============================] - 27s 47us/sample - loss: 0.0026 - mse: 1.1890e-05 - mae: 0.0026 - val_loss: 0.0025 - val_mse: 1.0902e-05 - val_mae: 0.0025\n",
      "Epoch 143/300\n",
      "587201/587201 [==============================] - 27s 47us/sample - loss: 0.0026 - mse: 1.1913e-05 - mae: 0.0026 - val_loss: 0.0026 - val_mse: 1.1396e-05 - val_mae: 0.0026\n",
      "Epoch 144/300\n",
      "587201/587201 [==============================] - 27s 46us/sample - loss: 0.0026 - mse: 1.1844e-05 - mae: 0.0026 - val_loss: 0.0035 - val_mse: 2.3872e-05 - val_mae: 0.0035\n",
      "Epoch 145/300\n",
      "587201/587201 [==============================] - 27s 47us/sample - loss: 0.0026 - mse: 1.1843e-05 - mae: 0.0026 - val_loss: 0.0030 - val_mse: 1.5897e-05 - val_mae: 0.0030\n",
      "Epoch 146/300\n",
      "587201/587201 [==============================] - 27s 47us/sample - loss: 0.0026 - mse: 1.1840e-05 - mae: 0.0026 - val_loss: 0.0030 - val_mse: 1.4381e-05 - val_mae: 0.0030\n",
      "Epoch 147/300\n",
      "587201/587201 [==============================] - 28s 47us/sample - loss: 0.0026 - mse: 1.1756e-05 - mae: 0.0026 - val_loss: 0.0027 - val_mse: 1.3245e-05 - val_mae: 0.0027\n",
      "Epoch 148/300\n",
      "587201/587201 [==============================] - 28s 48us/sample - loss: 0.0026 - mse: 1.1764e-05 - mae: 0.0026 - val_loss: 0.0026 - val_mse: 1.2268e-05 - val_mae: 0.0026\n",
      "Epoch 149/300\n",
      "587201/587201 [==============================] - 28s 47us/sample - loss: 0.0026 - mse: 1.1813e-05 - mae: 0.0026 - val_loss: 0.0026 - val_mse: 1.1701e-05 - val_mae: 0.0026\n",
      "Epoch 150/300\n",
      "587201/587201 [==============================] - 27s 47us/sample - loss: 0.0026 - mse: 1.1800e-05 - mae: 0.0026 - val_loss: 0.0029 - val_mse: 1.4609e-05 - val_mae: 0.0029\n",
      "Epoch 151/300\n",
      "587201/587201 [==============================] - 27s 47us/sample - loss: 0.0026 - mse: 1.1717e-05 - mae: 0.0026 - val_loss: 0.0029 - val_mse: 1.4615e-05 - val_mae: 0.0029\n",
      "Epoch 152/300\n",
      "587201/587201 [==============================] - 28s 47us/sample - loss: 0.0026 - mse: 1.1727e-05 - mae: 0.0026 - val_loss: 0.0026 - val_mse: 1.1779e-05 - val_mae: 0.0026\n",
      "Epoch 153/300\n",
      "587201/587201 [==============================] - 29s 50us/sample - loss: 0.0026 - mse: 1.1729e-05 - mae: 0.0026 - val_loss: 0.0032 - val_mse: 1.7956e-05 - val_mae: 0.0032\n",
      "Epoch 154/300\n",
      "587201/587201 [==============================] - 28s 48us/sample - loss: 0.0026 - mse: 1.1678e-05 - mae: 0.0026 - val_loss: 0.0025 - val_mse: 1.0660e-05 - val_mae: 0.0025\n",
      "Epoch 155/300\n",
      "587201/587201 [==============================] - 24s 41us/sample - loss: 0.0026 - mse: 1.1731e-05 - mae: 0.0026 - val_loss: 0.0034 - val_mse: 2.0312e-05 - val_mae: 0.0034\n",
      "Epoch 156/300\n",
      "587201/587201 [==============================] - 24s 40us/sample - loss: 0.0026 - mse: 1.1642e-05 - mae: 0.0026 - val_loss: 0.0027 - val_mse: 1.2983e-05 - val_mae: 0.0027\n",
      "Epoch 157/300\n",
      "587201/587201 [==============================] - 30s 51us/sample - loss: 0.0026 - mse: 1.1725e-05 - mae: 0.0026 - val_loss: 0.0028 - val_mse: 1.3381e-05 - val_mae: 0.0028\n",
      "Epoch 158/300\n",
      "587201/587201 [==============================] - 28s 48us/sample - loss: 0.0026 - mse: 1.1743e-05 - mae: 0.0026 - val_loss: 0.0027 - val_mse: 1.1852e-05 - val_mae: 0.0027\n",
      "Epoch 159/300\n",
      "587201/587201 [==============================] - 30s 50us/sample - loss: 0.0026 - mse: 1.1635e-05 - mae: 0.0026 - val_loss: 0.0027 - val_mse: 1.2640e-05 - val_mae: 0.0027\n",
      "Epoch 160/300\n",
      "587201/587201 [==============================] - 29s 50us/sample - loss: 0.0026 - mse: 1.1645e-05 - mae: 0.0026 - val_loss: 0.0029 - val_mse: 1.3797e-05 - val_mae: 0.0029\n",
      "Epoch 161/300\n",
      "587201/587201 [==============================] - 28s 47us/sample - loss: 0.0025 - mse: 1.1601e-05 - mae: 0.0025 - val_loss: 0.0027 - val_mse: 1.2954e-05 - val_mae: 0.0027\n",
      "Epoch 162/300\n",
      "587201/587201 [==============================] - 28s 47us/sample - loss: 0.0026 - mse: 1.1732e-05 - mae: 0.0026 - val_loss: 0.0025 - val_mse: 1.1361e-05 - val_mae: 0.0025\n",
      "Epoch 163/300\n",
      "587201/587201 [==============================] - 27s 47us/sample - loss: 0.0025 - mse: 1.1575e-05 - mae: 0.0025 - val_loss: 0.0024 - val_mse: 1.0315e-05 - val_mae: 0.0024\n",
      "Epoch 164/300\n",
      "587201/587201 [==============================] - 28s 48us/sample - loss: 0.0025 - mse: 1.1585e-05 - mae: 0.0025 - val_loss: 0.0026 - val_mse: 1.1668e-05 - val_mae: 0.0026\n",
      "Epoch 165/300\n",
      "587201/587201 [==============================] - 28s 47us/sample - loss: 0.0026 - mse: 1.1675e-05 - mae: 0.0026 - val_loss: 0.0026 - val_mse: 1.2155e-05 - val_mae: 0.0026\n",
      "Epoch 166/300\n",
      "587201/587201 [==============================] - 27s 47us/sample - loss: 0.0025 - mse: 1.1560e-05 - mae: 0.0025 - val_loss: 0.0026 - val_mse: 1.1585e-05 - val_mae: 0.0026\n",
      "Epoch 167/300\n",
      "587201/587201 [==============================] - 27s 47us/sample - loss: 0.0025 - mse: 1.1506e-05 - mae: 0.0025 - val_loss: 0.0025 - val_mse: 1.0659e-05 - val_mae: 0.0025\n",
      "Epoch 168/300\n",
      "587201/587201 [==============================] - 27s 47us/sample - loss: 0.0025 - mse: 1.1573e-05 - mae: 0.0025 - val_loss: 0.0037 - val_mse: 2.4549e-05 - val_mae: 0.0037\n",
      "Epoch 169/300\n",
      "587201/587201 [==============================] - 28s 47us/sample - loss: 0.0025 - mse: 1.1636e-05 - mae: 0.0025 - val_loss: 0.0036 - val_mse: 2.2981e-05 - val_mae: 0.0036\n",
      "Epoch 170/300\n",
      "587201/587201 [==============================] - 28s 47us/sample - loss: 0.0025 - mse: 1.1501e-05 - mae: 0.0025 - val_loss: 0.0036 - val_mse: 2.2617e-05 - val_mae: 0.0036\n",
      "Epoch 171/300\n",
      "587201/587201 [==============================] - 29s 49us/sample - loss: 0.0025 - mse: 1.1504e-05 - mae: 0.0025 - val_loss: 0.0024 - val_mse: 1.0113e-05 - val_mae: 0.0024\n",
      "Epoch 172/300\n",
      "587201/587201 [==============================] - 27s 47us/sample - loss: 0.0025 - mse: 1.1501e-05 - mae: 0.0025 - val_loss: 0.0025 - val_mse: 1.1293e-05 - val_mae: 0.0025\n",
      "Epoch 173/300\n",
      "587201/587201 [==============================] - 27s 47us/sample - loss: 0.0025 - mse: 1.1492e-05 - mae: 0.0025 - val_loss: 0.0027 - val_mse: 1.3023e-05 - val_mae: 0.0027\n",
      "Epoch 174/300\n",
      "587201/587201 [==============================] - 27s 47us/sample - loss: 0.0026 - mse: 1.1621e-05 - mae: 0.0026 - val_loss: 0.0035 - val_mse: 2.0439e-05 - val_mae: 0.0035\n",
      "Epoch 175/300\n",
      "587201/587201 [==============================] - 27s 47us/sample - loss: 0.0025 - mse: 1.1596e-05 - mae: 0.0025 - val_loss: 0.0036 - val_mse: 2.0619e-05 - val_mae: 0.0036\n",
      "Epoch 176/300\n",
      "587201/587201 [==============================] - 27s 46us/sample - loss: 0.0025 - mse: 1.1492e-05 - mae: 0.0025 - val_loss: 0.0043 - val_mse: 3.1522e-05 - val_mae: 0.0043\n",
      "Epoch 177/300\n"
     ]
    },
    {
     "name": "stdout",
     "output_type": "stream",
     "text": [
      "587201/587201 [==============================] - 28s 47us/sample - loss: 0.0026 - mse: 1.1762e-05 - mae: 0.0026 - val_loss: 0.0024 - val_mse: 1.0004e-05 - val_mae: 0.0024\n",
      "Epoch 178/300\n",
      "587201/587201 [==============================] - 28s 47us/sample - loss: 0.0026 - mse: 1.1661e-05 - mae: 0.0026 - val_loss: 0.0026 - val_mse: 1.1586e-05 - val_mae: 0.0026\n",
      "Epoch 179/300\n",
      "587201/587201 [==============================] - 28s 47us/sample - loss: 0.0026 - mse: 1.1636e-05 - mae: 0.0026 - val_loss: 0.0038 - val_mse: 2.6734e-05 - val_mae: 0.0038\n",
      "Epoch 180/300\n",
      "587201/587201 [==============================] - 28s 47us/sample - loss: 0.0025 - mse: 1.1467e-05 - mae: 0.0025 - val_loss: 0.0031 - val_mse: 1.7999e-05 - val_mae: 0.0031\n",
      "Epoch 181/300\n",
      "587201/587201 [==============================] - 27s 47us/sample - loss: 0.0026 - mse: 1.1653e-05 - mae: 0.0026 - val_loss: 0.0038 - val_mse: 2.2805e-05 - val_mae: 0.0038\n",
      "Epoch 182/300\n",
      "587201/587201 [==============================] - 28s 48us/sample - loss: 0.0026 - mse: 1.1609e-05 - mae: 0.0026 - val_loss: 0.0027 - val_mse: 1.2734e-05 - val_mae: 0.0027\n",
      "Epoch 183/300\n",
      "587201/587201 [==============================] - 28s 48us/sample - loss: 0.0025 - mse: 1.1511e-05 - mae: 0.0025 - val_loss: 0.0031 - val_mse: 1.7759e-05 - val_mae: 0.0031\n",
      "Epoch 184/300\n",
      "587201/587201 [==============================] - 28s 47us/sample - loss: 0.0025 - mse: 1.1602e-05 - mae: 0.0025 - val_loss: 0.0034 - val_mse: 1.9490e-05 - val_mae: 0.0034\n",
      "Epoch 185/300\n",
      "587201/587201 [==============================] - 28s 47us/sample - loss: 0.0025 - mse: 1.1481e-05 - mae: 0.0025 - val_loss: 0.0027 - val_mse: 1.2678e-05 - val_mae: 0.0027\n",
      "Epoch 186/300\n",
      "587201/587201 [==============================] - 27s 47us/sample - loss: 0.0025 - mse: 1.1521e-05 - mae: 0.0025 - val_loss: 0.0031 - val_mse: 1.6551e-05 - val_mae: 0.0031\n",
      "Epoch 187/300\n",
      "587201/587201 [==============================] - 28s 47us/sample - loss: 0.0025 - mse: 1.1451e-05 - mae: 0.0025 - val_loss: 0.0027 - val_mse: 1.2671e-05 - val_mae: 0.0027\n",
      "Epoch 188/300\n",
      "587201/587201 [==============================] - 27s 47us/sample - loss: 0.0025 - mse: 1.1492e-05 - mae: 0.0025 - val_loss: 0.0035 - val_mse: 2.1670e-05 - val_mae: 0.0035\n",
      "Epoch 189/300\n",
      "587201/587201 [==============================] - 28s 47us/sample - loss: 0.0025 - mse: 1.1526e-05 - mae: 0.0025 - val_loss: 0.0027 - val_mse: 1.3288e-05 - val_mae: 0.0027\n",
      "Epoch 190/300\n",
      "587201/587201 [==============================] - 28s 47us/sample - loss: 0.0025 - mse: 1.1461e-05 - mae: 0.0025 - val_loss: 0.0025 - val_mse: 1.0755e-05 - val_mae: 0.0025\n",
      "Epoch 191/300\n",
      "587201/587201 [==============================] - 28s 47us/sample - loss: 0.0025 - mse: 1.1456e-05 - mae: 0.0025 - val_loss: 0.0057 - val_mse: 4.6275e-05 - val_mae: 0.0057\n",
      "Epoch 192/300\n",
      "587201/587201 [==============================] - 27s 47us/sample - loss: 0.0025 - mse: 1.1485e-05 - mae: 0.0025 - val_loss: 0.0038 - val_mse: 2.2700e-05 - val_mae: 0.0038\n",
      "Epoch 193/300\n",
      "587201/587201 [==============================] - 28s 47us/sample - loss: 0.0025 - mse: 1.1414e-05 - mae: 0.0025 - val_loss: 0.0025 - val_mse: 1.1028e-05 - val_mae: 0.0025\n",
      "Epoch 194/300\n",
      "587201/587201 [==============================] - 29s 49us/sample - loss: 0.0025 - mse: 1.1383e-05 - mae: 0.0025 - val_loss: 0.0032 - val_mse: 1.6512e-05 - val_mae: 0.0032\n",
      "Epoch 195/300\n",
      "587201/587201 [==============================] - 27s 47us/sample - loss: 0.0025 - mse: 1.1358e-05 - mae: 0.0025 - val_loss: 0.0027 - val_mse: 1.2858e-05 - val_mae: 0.0027\n",
      "Epoch 196/300\n",
      "587201/587201 [==============================] - 28s 47us/sample - loss: 0.0025 - mse: 1.1363e-05 - mae: 0.0025 - val_loss: 0.0026 - val_mse: 1.2047e-05 - val_mae: 0.0026\n",
      "Epoch 197/300\n",
      "587201/587201 [==============================] - 27s 47us/sample - loss: 0.0025 - mse: 1.1297e-05 - mae: 0.0025 - val_loss: 0.0037 - val_mse: 2.3326e-05 - val_mae: 0.0037\n",
      "Epoch 198/300\n",
      "587201/587201 [==============================] - 27s 46us/sample - loss: 0.0025 - mse: 1.1469e-05 - mae: 0.0025 - val_loss: 0.0039 - val_mse: 2.6829e-05 - val_mae: 0.0039\n",
      "Epoch 199/300\n",
      "587201/587201 [==============================] - 27s 47us/sample - loss: 0.0025 - mse: 1.1349e-05 - mae: 0.0025 - val_loss: 0.0027 - val_mse: 1.2603e-05 - val_mae: 0.0027\n",
      "Epoch 200/300\n",
      "587201/587201 [==============================] - 27s 47us/sample - loss: 0.0025 - mse: 1.1332e-05 - mae: 0.0025 - val_loss: 0.0024 - val_mse: 1.0495e-05 - val_mae: 0.0024\n",
      "Epoch 201/300\n",
      "587201/587201 [==============================] - 27s 46us/sample - loss: 0.0025 - mse: 1.1343e-05 - mae: 0.0025 - val_loss: 0.0029 - val_mse: 1.4259e-05 - val_mae: 0.0029\n",
      "Epoch 202/300\n",
      "587201/587201 [==============================] - 27s 46us/sample - loss: 0.0025 - mse: 1.1276e-05 - mae: 0.0025 - val_loss: 0.0030 - val_mse: 1.4987e-05 - val_mae: 0.0030\n",
      "Epoch 203/300\n",
      "587201/587201 [==============================] - 27s 47us/sample - loss: 0.0025 - mse: 1.1416e-05 - mae: 0.0025 - val_loss: 0.0031 - val_mse: 1.6975e-05 - val_mae: 0.0031\n",
      "Epoch 204/300\n",
      "587201/587201 [==============================] - 27s 47us/sample - loss: 0.0025 - mse: 1.1199e-05 - mae: 0.0025 - val_loss: 0.0033 - val_mse: 1.8878e-05 - val_mae: 0.0033\n",
      "Epoch 205/300\n",
      "587201/587201 [==============================] - 28s 48us/sample - loss: 0.0025 - mse: 1.1352e-05 - mae: 0.0025 - val_loss: 0.0039 - val_mse: 2.5194e-05 - val_mae: 0.0039\n",
      "Epoch 206/300\n",
      "587201/587201 [==============================] - 27s 47us/sample - loss: 0.0025 - mse: 1.1278e-05 - mae: 0.0025 - val_loss: 0.0029 - val_mse: 1.5247e-05 - val_mae: 0.0029\n",
      "Epoch 207/300\n",
      "587201/587201 [==============================] - 27s 46us/sample - loss: 0.0025 - mse: 1.1287e-05 - mae: 0.0025 - val_loss: 0.0027 - val_mse: 1.2934e-05 - val_mae: 0.0027\n",
      "Epoch 208/300\n",
      "587201/587201 [==============================] - 27s 46us/sample - loss: 0.0025 - mse: 1.1354e-05 - mae: 0.0025 - val_loss: 0.0024 - val_mse: 1.0205e-05 - val_mae: 0.0024\n",
      "Epoch 209/300\n",
      "587201/587201 [==============================] - 27s 47us/sample - loss: 0.0025 - mse: 1.1212e-05 - mae: 0.0025 - val_loss: 0.0025 - val_mse: 1.1053e-05 - val_mae: 0.0025\n",
      "Epoch 210/300\n",
      "587201/587201 [==============================] - 27s 46us/sample - loss: 0.0025 - mse: 1.1281e-05 - mae: 0.0025 - val_loss: 0.0025 - val_mse: 1.1349e-05 - val_mae: 0.0025\n",
      "Epoch 211/300\n",
      "587201/587201 [==============================] - 27s 46us/sample - loss: 0.0025 - mse: 1.1254e-05 - mae: 0.0025 - val_loss: 0.0025 - val_mse: 1.0531e-05 - val_mae: 0.0025\n",
      "Epoch 212/300\n",
      "587201/587201 [==============================] - 27s 47us/sample - loss: 0.0025 - mse: 1.1214e-05 - mae: 0.0025 - val_loss: 0.0032 - val_mse: 1.6657e-05 - val_mae: 0.0032\n",
      "Epoch 213/300\n",
      "587201/587201 [==============================] - 27s 47us/sample - loss: 0.0025 - mse: 1.1296e-05 - mae: 0.0025 - val_loss: 0.0025 - val_mse: 1.0694e-05 - val_mae: 0.0025\n",
      "Epoch 214/300\n",
      "587201/587201 [==============================] - 27s 46us/sample - loss: 0.0025 - mse: 1.1243e-05 - mae: 0.0025 - val_loss: 0.0028 - val_mse: 1.3836e-05 - val_mae: 0.0028\n",
      "Epoch 215/300\n",
      "587201/587201 [==============================] - 27s 47us/sample - loss: 0.0025 - mse: 1.1276e-05 - mae: 0.0025 - val_loss: 0.0025 - val_mse: 1.0774e-05 - val_mae: 0.0025\n",
      "Epoch 216/300\n",
      "587201/587201 [==============================] - 28s 47us/sample - loss: 0.0025 - mse: 1.1141e-05 - mae: 0.0025 - val_loss: 0.0041 - val_mse: 2.8455e-05 - val_mae: 0.0041\n",
      "Epoch 217/300\n",
      "587201/587201 [==============================] - 28s 48us/sample - loss: 0.0025 - mse: 1.1296e-05 - mae: 0.0025 - val_loss: 0.0030 - val_mse: 1.5135e-05 - val_mae: 0.0030\n",
      "Epoch 218/300\n",
      "587201/587201 [==============================] - 27s 47us/sample - loss: 0.0025 - mse: 1.1288e-05 - mae: 0.0025 - val_loss: 0.0028 - val_mse: 1.2925e-05 - val_mae: 0.0028\n",
      "Epoch 219/300\n",
      "587201/587201 [==============================] - 27s 47us/sample - loss: 0.0025 - mse: 1.1169e-05 - mae: 0.0025 - val_loss: 0.0032 - val_mse: 1.6545e-05 - val_mae: 0.0032\n",
      "Epoch 220/300\n",
      "587201/587201 [==============================] - 27s 46us/sample - loss: 0.0025 - mse: 1.1162e-05 - mae: 0.0025 - val_loss: 0.0036 - val_mse: 2.0635e-05 - val_mae: 0.0036\n",
      "Epoch 221/300\n"
     ]
    },
    {
     "name": "stdout",
     "output_type": "stream",
     "text": [
      "587201/587201 [==============================] - 27s 47us/sample - loss: 0.0025 - mse: 1.1253e-05 - mae: 0.0025 - val_loss: 0.0032 - val_mse: 1.8041e-05 - val_mae: 0.0032\n",
      "Epoch 222/300\n",
      "587201/587201 [==============================] - 28s 47us/sample - loss: 0.0025 - mse: 1.1281e-05 - mae: 0.0025 - val_loss: 0.0029 - val_mse: 1.5396e-05 - val_mae: 0.0029\n",
      "Epoch 223/300\n",
      "587201/587201 [==============================] - 28s 47us/sample - loss: 0.0025 - mse: 1.1065e-05 - mae: 0.0025 - val_loss: 0.0026 - val_mse: 1.1861e-05 - val_mae: 0.0026\n",
      "Epoch 224/300\n",
      "587201/587201 [==============================] - 27s 47us/sample - loss: 0.0025 - mse: 1.1122e-05 - mae: 0.0025 - val_loss: 0.0024 - val_mse: 1.0387e-05 - val_mae: 0.0024\n",
      "Epoch 225/300\n",
      "587201/587201 [==============================] - 27s 47us/sample - loss: 0.0025 - mse: 1.1170e-05 - mae: 0.0025 - val_loss: 0.0024 - val_mse: 1.0532e-05 - val_mae: 0.0024\n",
      "Epoch 226/300\n",
      "587201/587201 [==============================] - 27s 46us/sample - loss: 0.0025 - mse: 1.1112e-05 - mae: 0.0025 - val_loss: 0.0035 - val_mse: 1.8271e-05 - val_mae: 0.0035\n",
      "Epoch 227/300\n",
      "587201/587201 [==============================] - 28s 48us/sample - loss: 0.0025 - mse: 1.1144e-05 - mae: 0.0025 - val_loss: 0.0036 - val_mse: 2.1170e-05 - val_mae: 0.0036\n",
      "Epoch 228/300\n",
      "587201/587201 [==============================] - 29s 50us/sample - loss: 0.0025 - mse: 1.1094e-05 - mae: 0.0025 - val_loss: 0.0023 - val_mse: 9.0860e-06 - val_mae: 0.0023\n",
      "Epoch 229/300\n",
      "587201/587201 [==============================] - 28s 47us/sample - loss: 0.0025 - mse: 1.1121e-05 - mae: 0.0025 - val_loss: 0.0026 - val_mse: 1.1972e-05 - val_mae: 0.0026\n",
      "Epoch 230/300\n",
      "587201/587201 [==============================] - 28s 47us/sample - loss: 0.0025 - mse: 1.1115e-05 - mae: 0.0025 - val_loss: 0.0030 - val_mse: 1.5221e-05 - val_mae: 0.0030\n",
      "Epoch 231/300\n",
      "587201/587201 [==============================] - 28s 47us/sample - loss: 0.0025 - mse: 1.1037e-05 - mae: 0.0025 - val_loss: 0.0024 - val_mse: 1.0503e-05 - val_mae: 0.0024\n",
      "Epoch 232/300\n",
      "587201/587201 [==============================] - 28s 48us/sample - loss: 0.0025 - mse: 1.1083e-05 - mae: 0.0025 - val_loss: 0.0054 - val_mse: 4.2237e-05 - val_mae: 0.0054\n",
      "Epoch 233/300\n",
      "587201/587201 [==============================] - 28s 47us/sample - loss: 0.0025 - mse: 1.1155e-05 - mae: 0.0025 - val_loss: 0.0028 - val_mse: 1.2492e-05 - val_mae: 0.0028\n",
      "Epoch 234/300\n",
      "587201/587201 [==============================] - 28s 47us/sample - loss: 0.0025 - mse: 1.1164e-05 - mae: 0.0025 - val_loss: 0.0041 - val_mse: 2.6179e-05 - val_mae: 0.0041\n",
      "Epoch 235/300\n",
      "587201/587201 [==============================] - 28s 48us/sample - loss: 0.0025 - mse: 1.1157e-05 - mae: 0.0025 - val_loss: 0.0040 - val_mse: 2.7541e-05 - val_mae: 0.0040\n",
      "Epoch 236/300\n",
      "587201/587201 [==============================] - 28s 47us/sample - loss: 0.0025 - mse: 1.1117e-05 - mae: 0.0025 - val_loss: 0.0026 - val_mse: 1.1874e-05 - val_mae: 0.0026\n",
      "Epoch 237/300\n",
      "587201/587201 [==============================] - 28s 47us/sample - loss: 0.0025 - mse: 1.1074e-05 - mae: 0.0025 - val_loss: 0.0041 - val_mse: 2.7069e-05 - val_mae: 0.0041\n",
      "Epoch 238/300\n",
      "587201/587201 [==============================] - 28s 48us/sample - loss: 0.0025 - mse: 1.1055e-05 - mae: 0.0025 - val_loss: 0.0027 - val_mse: 1.2635e-05 - val_mae: 0.0027\n",
      "Epoch 239/300\n",
      "587201/587201 [==============================] - 29s 50us/sample - loss: 0.0025 - mse: 1.1058e-05 - mae: 0.0025 - val_loss: 0.0026 - val_mse: 1.2366e-05 - val_mae: 0.0026\n",
      "Epoch 240/300\n",
      "587201/587201 [==============================] - 28s 47us/sample - loss: 0.0025 - mse: 1.0985e-05 - mae: 0.0025 - val_loss: 0.0032 - val_mse: 1.7657e-05 - val_mae: 0.0032\n",
      "Epoch 241/300\n",
      "587201/587201 [==============================] - 28s 48us/sample - loss: 0.0025 - mse: 1.1072e-05 - mae: 0.0025 - val_loss: 0.0031 - val_mse: 1.7288e-05 - val_mae: 0.0031\n",
      "Epoch 242/300\n",
      "587201/587201 [==============================] - 28s 47us/sample - loss: 0.0025 - mse: 1.1061e-05 - mae: 0.0025 - val_loss: 0.0036 - val_mse: 2.0242e-05 - val_mae: 0.0036\n",
      "Epoch 243/300\n",
      "587201/587201 [==============================] - 28s 48us/sample - loss: 0.0025 - mse: 1.1071e-05 - mae: 0.0025 - val_loss: 0.0075 - val_mse: 8.2221e-05 - val_mae: 0.0075\n",
      "Epoch 244/300\n",
      "587201/587201 [==============================] - 28s 47us/sample - loss: 0.0025 - mse: 1.1068e-05 - mae: 0.0025 - val_loss: 0.0023 - val_mse: 9.4731e-06 - val_mae: 0.0023\n",
      "Epoch 245/300\n",
      "587201/587201 [==============================] - 28s 47us/sample - loss: 0.0025 - mse: 1.0987e-05 - mae: 0.0025 - val_loss: 0.0032 - val_mse: 1.6215e-05 - val_mae: 0.0032\n",
      "Epoch 246/300\n",
      "587201/587201 [==============================] - 28s 47us/sample - loss: 0.0025 - mse: 1.0956e-05 - mae: 0.0025 - val_loss: 0.0044 - val_mse: 3.0438e-05 - val_mae: 0.0044\n",
      "Epoch 247/300\n",
      "587201/587201 [==============================] - 28s 47us/sample - loss: 0.0025 - mse: 1.0997e-05 - mae: 0.0025 - val_loss: 0.0045 - val_mse: 3.0313e-05 - val_mae: 0.0045\n",
      "Epoch 248/300\n",
      "587201/587201 [==============================] - 28s 48us/sample - loss: 0.0025 - mse: 1.0984e-05 - mae: 0.0025 - val_loss: 0.0025 - val_mse: 1.1235e-05 - val_mae: 0.0025\n",
      "Epoch 249/300\n",
      "587201/587201 [==============================] - 28s 47us/sample - loss: 0.0025 - mse: 1.0960e-05 - mae: 0.0025 - val_loss: 0.0024 - val_mse: 1.0449e-05 - val_mae: 0.0024\n",
      "Epoch 250/300\n",
      "587201/587201 [==============================] - 29s 49us/sample - loss: 0.0025 - mse: 1.1048e-05 - mae: 0.0025 - val_loss: 0.0026 - val_mse: 1.2041e-05 - val_mae: 0.0026\n",
      "Epoch 251/300\n",
      "587201/587201 [==============================] - 27s 47us/sample - loss: 0.0025 - mse: 1.0932e-05 - mae: 0.0025 - val_loss: 0.0028 - val_mse: 1.3097e-05 - val_mae: 0.0028\n",
      "Epoch 252/300\n",
      "587201/587201 [==============================] - 28s 47us/sample - loss: 0.0025 - mse: 1.0896e-05 - mae: 0.0025 - val_loss: 0.0042 - val_mse: 3.0644e-05 - val_mae: 0.0042\n",
      "Epoch 253/300\n",
      "587201/587201 [==============================] - 28s 47us/sample - loss: 0.0025 - mse: 1.1007e-05 - mae: 0.0025 - val_loss: 0.0023 - val_mse: 9.8834e-06 - val_mae: 0.0023\n",
      "Epoch 254/300\n",
      "587201/587201 [==============================] - 28s 47us/sample - loss: 0.0025 - mse: 1.1002e-05 - mae: 0.0025 - val_loss: 0.0025 - val_mse: 1.1334e-05 - val_mae: 0.0025\n",
      "Epoch 255/300\n",
      "587201/587201 [==============================] - 28s 47us/sample - loss: 0.0025 - mse: 1.0925e-05 - mae: 0.0025 - val_loss: 0.0023 - val_mse: 9.6853e-06 - val_mae: 0.0023\n",
      "Epoch 256/300\n",
      "587201/587201 [==============================] - 28s 47us/sample - loss: 0.0025 - mse: 1.0952e-05 - mae: 0.0025 - val_loss: 0.0023 - val_mse: 9.5981e-06 - val_mae: 0.0023\n",
      "Epoch 257/300\n",
      "587201/587201 [==============================] - 27s 47us/sample - loss: 0.0025 - mse: 1.0937e-05 - mae: 0.0025 - val_loss: 0.0038 - val_mse: 2.4422e-05 - val_mae: 0.0038\n",
      "Epoch 258/300\n",
      "587201/587201 [==============================] - 28s 47us/sample - loss: 0.0025 - mse: 1.1006e-05 - mae: 0.0025 - val_loss: 0.0029 - val_mse: 1.4242e-05 - val_mae: 0.0029\n",
      "Epoch 259/300\n",
      "587201/587201 [==============================] - 27s 47us/sample - loss: 0.0025 - mse: 1.1015e-05 - mae: 0.0025 - val_loss: 0.0022 - val_mse: 9.1217e-06 - val_mae: 0.0022\n",
      "Epoch 260/300\n",
      "587201/587201 [==============================] - 28s 47us/sample - loss: 0.0025 - mse: 1.0893e-05 - mae: 0.0025 - val_loss: 0.0023 - val_mse: 9.5128e-06 - val_mae: 0.0023\n",
      "Epoch 261/300\n",
      "587201/587201 [==============================] - 28s 48us/sample - loss: 0.0025 - mse: 1.0964e-05 - mae: 0.0025 - val_loss: 0.0029 - val_mse: 1.3939e-05 - val_mae: 0.0029\n",
      "Epoch 262/300\n",
      "587201/587201 [==============================] - 28s 48us/sample - loss: 0.0025 - mse: 1.0892e-05 - mae: 0.0025 - val_loss: 0.0024 - val_mse: 1.0113e-05 - val_mae: 0.0024\n",
      "Epoch 263/300\n",
      "587201/587201 [==============================] - 27s 46us/sample - loss: 0.0025 - mse: 1.0906e-05 - mae: 0.0025 - val_loss: 0.0024 - val_mse: 1.0045e-05 - val_mae: 0.0024\n",
      "Epoch 264/300\n",
      "587201/587201 [==============================] - 27s 47us/sample - loss: 0.0025 - mse: 1.0971e-05 - mae: 0.0025 - val_loss: 0.0070 - val_mse: 7.1769e-05 - val_mae: 0.0070\n",
      "Epoch 265/300\n"
     ]
    },
    {
     "name": "stdout",
     "output_type": "stream",
     "text": [
      "587201/587201 [==============================] - 27s 47us/sample - loss: 0.0025 - mse: 1.1042e-05 - mae: 0.0025 - val_loss: 0.0029 - val_mse: 1.4997e-05 - val_mae: 0.0029\n",
      "Epoch 266/300\n",
      "587201/587201 [==============================] - 27s 46us/sample - loss: 0.0025 - mse: 1.0841e-05 - mae: 0.0025 - val_loss: 0.0041 - val_mse: 2.6465e-05 - val_mae: 0.0041\n",
      "Epoch 267/300\n",
      "587201/587201 [==============================] - 27s 47us/sample - loss: 0.0025 - mse: 1.0888e-05 - mae: 0.0025 - val_loss: 0.0033 - val_mse: 1.7386e-05 - val_mae: 0.0033\n",
      "Epoch 268/300\n",
      "587201/587201 [==============================] - 27s 46us/sample - loss: 0.0025 - mse: 1.0911e-05 - mae: 0.0025 - val_loss: 0.0062 - val_mse: 5.3880e-05 - val_mae: 0.0062\n",
      "Epoch 269/300\n",
      "587201/587201 [==============================] - 27s 47us/sample - loss: 0.0025 - mse: 1.0921e-05 - mae: 0.0025 - val_loss: 0.0050 - val_mse: 3.9240e-05 - val_mae: 0.0050\n",
      "Epoch 270/300\n",
      "587201/587201 [==============================] - 27s 46us/sample - loss: 0.0025 - mse: 1.0955e-05 - mae: 0.0025 - val_loss: 0.0036 - val_mse: 2.0884e-05 - val_mae: 0.0036\n",
      "Epoch 271/300\n",
      "587201/587201 [==============================] - 27s 46us/sample - loss: 0.0025 - mse: 1.0869e-05 - mae: 0.0025 - val_loss: 0.0024 - val_mse: 1.0181e-05 - val_mae: 0.0024\n",
      "Epoch 272/300\n",
      "587201/587201 [==============================] - 27s 46us/sample - loss: 0.0025 - mse: 1.0867e-05 - mae: 0.0025 - val_loss: 0.0028 - val_mse: 1.4736e-05 - val_mae: 0.0028\n",
      "Epoch 273/300\n",
      "587201/587201 [==============================] - 29s 49us/sample - loss: 0.0025 - mse: 1.0931e-05 - mae: 0.0025 - val_loss: 0.0027 - val_mse: 1.2697e-05 - val_mae: 0.0027\n",
      "Epoch 274/300\n",
      "587201/587201 [==============================] - 27s 47us/sample - loss: 0.0025 - mse: 1.0852e-05 - mae: 0.0025 - val_loss: 0.0023 - val_mse: 9.5941e-06 - val_mae: 0.0023\n",
      "Epoch 275/300\n",
      "587201/587201 [==============================] - 27s 46us/sample - loss: 0.0025 - mse: 1.0855e-05 - mae: 0.0025 - val_loss: 0.0037 - val_mse: 2.3204e-05 - val_mae: 0.0037\n",
      "Epoch 276/300\n",
      "587201/587201 [==============================] - 28s 47us/sample - loss: 0.0025 - mse: 1.0847e-05 - mae: 0.0025 - val_loss: 0.0028 - val_mse: 1.3326e-05 - val_mae: 0.0028\n",
      "Epoch 277/300\n",
      "587201/587201 [==============================] - 27s 47us/sample - loss: 0.0025 - mse: 1.0807e-05 - mae: 0.0025 - val_loss: 0.0041 - val_mse: 2.5772e-05 - val_mae: 0.0041\n",
      "Epoch 278/300\n",
      "587201/587201 [==============================] - 27s 47us/sample - loss: 0.0025 - mse: 1.0844e-05 - mae: 0.0025 - val_loss: 0.0038 - val_mse: 2.6318e-05 - val_mae: 0.0038\n",
      "Epoch 279/300\n",
      "587201/587201 [==============================] - 27s 47us/sample - loss: 0.0025 - mse: 1.0891e-05 - mae: 0.0025 - val_loss: 0.0026 - val_mse: 1.2328e-05 - val_mae: 0.0026\n",
      "Epoch 280/300\n",
      "587201/587201 [==============================] - 28s 47us/sample - loss: 0.0025 - mse: 1.0867e-05 - mae: 0.0025 - val_loss: 0.0036 - val_mse: 2.0675e-05 - val_mae: 0.0036\n",
      "Epoch 281/300\n",
      "587201/587201 [==============================] - 27s 46us/sample - loss: 0.0025 - mse: 1.0852e-05 - mae: 0.0025 - val_loss: 0.0025 - val_mse: 1.0638e-05 - val_mae: 0.0025\n",
      "Epoch 282/300\n",
      "587201/587201 [==============================] - 28s 47us/sample - loss: 0.0025 - mse: 1.0850e-05 - mae: 0.0025 - val_loss: 0.0034 - val_mse: 1.8384e-05 - val_mae: 0.0034\n",
      "Epoch 283/300\n",
      "587201/587201 [==============================] - 28s 47us/sample - loss: 0.0025 - mse: 1.0853e-05 - mae: 0.0025 - val_loss: 0.0030 - val_mse: 1.6116e-05 - val_mae: 0.0030\n",
      "Epoch 284/300\n",
      "587201/587201 [==============================] - 28s 48us/sample - loss: 0.0025 - mse: 1.0801e-05 - mae: 0.0025 - val_loss: 0.0027 - val_mse: 1.2176e-05 - val_mae: 0.0027\n",
      "Epoch 285/300\n",
      "587201/587201 [==============================] - 27s 46us/sample - loss: 0.0025 - mse: 1.0798e-05 - mae: 0.0025 - val_loss: 0.0030 - val_mse: 1.5735e-05 - val_mae: 0.0030\n",
      "Epoch 286/300\n",
      "587201/587201 [==============================] - 27s 47us/sample - loss: 0.0025 - mse: 1.0790e-05 - mae: 0.0025 - val_loss: 0.0063 - val_mse: 5.4647e-05 - val_mae: 0.0063\n",
      "Epoch 287/300\n",
      "587201/587201 [==============================] - 28s 47us/sample - loss: 0.0025 - mse: 1.0821e-05 - mae: 0.0025 - val_loss: 0.0024 - val_mse: 1.0113e-05 - val_mae: 0.0024\n",
      "Epoch 288/300\n",
      "587201/587201 [==============================] - 27s 47us/sample - loss: 0.0025 - mse: 1.0731e-05 - mae: 0.0025 - val_loss: 0.0024 - val_mse: 1.0158e-05 - val_mae: 0.0024\n",
      "Epoch 289/300\n",
      "587201/587201 [==============================] - 27s 47us/sample - loss: 0.0025 - mse: 1.0742e-05 - mae: 0.0025 - val_loss: 0.0040 - val_mse: 2.4998e-05 - val_mae: 0.0040\n",
      "Epoch 290/300\n",
      "587201/587201 [==============================] - 27s 46us/sample - loss: 0.0025 - mse: 1.0820e-05 - mae: 0.0025 - val_loss: 0.0031 - val_mse: 1.5344e-05 - val_mae: 0.0031\n",
      "Epoch 291/300\n",
      "587201/587201 [==============================] - 27s 47us/sample - loss: 0.0025 - mse: 1.0773e-05 - mae: 0.0025 - val_loss: 0.0024 - val_mse: 9.8838e-06 - val_mae: 0.0024\n",
      "Epoch 292/300\n",
      "587201/587201 [==============================] - 27s 47us/sample - loss: 0.0025 - mse: 1.0761e-05 - mae: 0.0025 - val_loss: 0.0026 - val_mse: 1.1921e-05 - val_mae: 0.0026\n",
      "Epoch 293/300\n",
      "587201/587201 [==============================] - 27s 47us/sample - loss: 0.0025 - mse: 1.0798e-05 - mae: 0.0025 - val_loss: 0.0028 - val_mse: 1.2507e-05 - val_mae: 0.0028\n",
      "Epoch 294/300\n",
      "587201/587201 [==============================] - 28s 47us/sample - loss: 0.0025 - mse: 1.0719e-05 - mae: 0.0025 - val_loss: 0.0025 - val_mse: 1.1244e-05 - val_mae: 0.0025\n",
      "Epoch 295/300\n",
      "587201/587201 [==============================] - 27s 47us/sample - loss: 0.0025 - mse: 1.0810e-05 - mae: 0.0025 - val_loss: 0.0030 - val_mse: 1.4623e-05 - val_mae: 0.0030\n",
      "Epoch 296/300\n",
      "587201/587201 [==============================] - 29s 49us/sample - loss: 0.0025 - mse: 1.0688e-05 - mae: 0.0025 - val_loss: 0.0058 - val_mse: 4.7210e-05 - val_mae: 0.0058\n",
      "Epoch 297/300\n",
      "587201/587201 [==============================] - 27s 46us/sample - loss: 0.0025 - mse: 1.0855e-05 - mae: 0.0025 - val_loss: 0.0031 - val_mse: 1.5981e-05 - val_mae: 0.0031\n",
      "Epoch 298/300\n",
      "587201/587201 [==============================] - 27s 47us/sample - loss: 0.0024 - mse: 1.0672e-05 - mae: 0.0024 - val_loss: 0.0029 - val_mse: 1.4683e-05 - val_mae: 0.0029\n",
      "Epoch 299/300\n",
      "587201/587201 [==============================] - 27s 47us/sample - loss: 0.0025 - mse: 1.0673e-05 - mae: 0.0025 - val_loss: 0.0023 - val_mse: 9.5796e-06 - val_mae: 0.0023\n",
      "Epoch 300/300\n",
      "587201/587201 [==============================] - 27s 47us/sample - loss: 0.0025 - mse: 1.0780e-05 - mae: 0.0025 - val_loss: 0.0023 - val_mse: 9.4269e-06 - val_mae: 0.0023\n"
     ]
    }
   ],
   "source": [
    "history = model.fit(X_train, y_train, epochs=300, batch_size=50,  verbose=1, validation_split=0.2)"
   ]
  },
  {
   "cell_type": "code",
   "execution_count": 15,
   "metadata": {},
   "outputs": [
    {
     "name": "stdout",
     "output_type": "stream",
     "text": [
      "dict_keys(['loss', 'mse', 'mae', 'val_loss', 'val_mse', 'val_mae'])\n"
     ]
    },
    {
     "data": {
      "image/png": "[encoded data removed]",
      "text/plain": [
       "<Figure size 432x288 with 1 Axes>"
      ]
     },
     "metadata": {
      "needs_background": "light"
     },
     "output_type": "display_data"
    }
   ],
   "source": [
    "print(history.history.keys())\n",
    "# \"Loss\"\n",
    "plt.plot(history.history['loss'])\n",
    "plt.plot(history.history['val_loss'])\n",
    "plt.title('model loss')\n",
    "plt.ylabel('loss')\n",
    "plt.xlabel('epoch')\n",
    "plt.legend(['train', 'validation'], loc='upper left')\n",
    "plt.show()"
   ]
  },
  {
   "cell_type": "code",
   "execution_count": 17,
   "metadata": {},
   "outputs": [
    {
     "data": {
      "image/png": "[encoded data removed]",
      "text/plain": [
       "<Figure size 432x288 with 1 Axes>"
      ]
     },
     "metadata": {
      "needs_background": "light"
     },
     "output_type": "display_data"
    }
   ],
   "source": [
    "#Error\n",
    "plt.plot(history.history['mae'])\n",
    "plt.plot(history.history['mse'])\n",
    "plt.title('model error')\n",
    "plt.ylabel('error')\n",
    "plt.xlabel('epoch')\n",
    "plt.legend(['mae', 'mse'], loc='upper right')\n",
    "plt.show()"
   ]
  },
  {
   "cell_type": "code",
   "execution_count": 18,
   "metadata": {},
   "outputs": [],
   "source": [
    "train_predict = model.predict(X_train)\n",
    "test_predict = model.predict(X_test)\n"
   ]
  },
  {
   "cell_type": "code",
   "execution_count": 19,
   "metadata": {},
   "outputs": [
    {
     "name": "stdout",
     "output_type": "stream",
     "text": [
      "Train Performance\n",
      "mae=0.002303239914396957, rmse=0.0030533391945056915, r2=0.9989464243606407\n",
      "Test Performance\n",
      "mae=0.0023162405353043354, rmse=0.003073588788921849, r2=0.9989319139034298\n"
     ]
    }
   ],
   "source": [
    "from sklearn.metrics import mean_absolute_error, mean_squared_error, r2_score\n",
    "mae = mean_absolute_error(train_predict, y_train)\n",
    "mse = mean_squared_error(train_predict, y_train)\n",
    "r2 = r2_score(train_predict, y_train)\n",
    "\n",
    "print('Train Performance')\n",
    "print(\"mae=%s, rmse=%s, r2=%s\" % (mae, np.sqrt(mse), r2))\n",
    "\n",
    "tmae = mean_absolute_error(y_test, test_predict)\n",
    "tmse = mean_squared_error(y_test, test_predict)\n",
    "tr2 = r2_score(test_predict, y_test)\n",
    "print('Test Performance')\n",
    "print(\"mae=%s, rmse=%s, r2=%s\" % (tmae, np.sqrt(tmse), tr2))"
   ]
  },
  {
   "cell_type": "code",
   "execution_count": 20,
   "metadata": {},
   "outputs": [],
   "source": [
    "import pandas as pd\n",
    "import seaborn as sns\n",
    "sns.set()\n"
   ]
  },
  {
   "cell_type": "code",
   "execution_count": 56,
   "metadata": {},
   "outputs": [],
   "source": [
    "#yt=scaler_y.inverse_transform(y_train)\n",
    "#ytp=scaler_y.inverse_transform(train_predict)\n",
    "#ye=scaler_y.inverse_transform(y_test)\n",
    "#yep=scaler_y.inverse_transform(test_predict)\n",
    "\n",
    "yt=(y_train)\n",
    "ytp=(train_predict)\n",
    "ye=(y_test)\n",
    "yep=(test_predict)\n",
    "\n",
    "df_train = pd.DataFrame({\"train_target ($^\\circ$C)\": yt[:,0], \"train_predict ($^\\circ$C)\": ytp[:,0]})\n",
    "df_test = pd.DataFrame({\"test_target ($^\\circ$C)\": ye[:,0], \"test_predict ($^\\circ$C)\": yep[:,0]})"
   ]
  },
  {
   "cell_type": "code",
   "execution_count": 57,
   "metadata": {},
   "outputs": [
    {
     "data": {
      "text/plain": [
       "<matplotlib.legend.Legend at 0x1eaa3465648>"
      ]
     },
     "execution_count": 57,
     "metadata": {},
     "output_type": "execute_result"
    },
    {
     "data": {
      "image/png": "[encoded data removed]",
      "text/plain": [
       "<Figure size 360x360 with 1 Axes>"
      ]
     },
     "metadata": {},
     "output_type": "display_data"
    }
   ],
   "source": [
    "g_train = sns.lmplot(x=\"train_target ($^\\circ$C)\", y=\"train_predict ($^\\circ$C)\",data=df_train)\n",
    "plt.legend(labels=['R2=0.998'])"
   ]
  },
  {
   "cell_type": "code",
   "execution_count": 58,
   "metadata": {
    "scrolled": true
   },
   "outputs": [
    {
     "data": {
      "text/plain": [
       "<matplotlib.legend.Legend at 0x1ea87bd04c8>"
      ]
     },
     "execution_count": 58,
     "metadata": {},
     "output_type": "execute_result"
    },
    {
     "data": {
      "image/png": "[encoded data removed]",
      "text/plain": [
       "<Figure size 360x360 with 1 Axes>"
      ]
     },
     "metadata": {},
     "output_type": "display_data"
    }
   ],
   "source": [
    "g_test=sns.lmplot(x=\"test_target ($^\\circ$C)\", y=\"test_predict ($^\\circ$C)\",data=df_test)\n",
    "plt.legend(labels=['R2=0.998'])"
   ]
  },
  {
   "cell_type": "code",
   "execution_count": 45,
   "metadata": {},
   "outputs": [
    {
     "data": {
      "image/png": "[encoded data removed]",
      "text/plain": [
       "<Figure size 432x288 with 1 Axes>"
      ]
     },
     "metadata": {},
     "output_type": "display_data"
    }
   ],
   "source": [
    "#prediction = scaler_y.inverse_transform(train_predict)\n",
    "#target = scaler_y.inverse_transform(y_train)\n",
    "#train_error = np.abs(np.power(2,prediction) - np.power(2,target))\n",
    "#train_error = np.power(2,np.abs(prediction - target))\n",
    "prediction = train_predict\n",
    "target = y_train\n",
    "\n",
    "train_error = np.abs(prediction-target)\n",
    "#train_error = (prediction - target) / target\n",
    "fig = sns.distplot(train_error,norm_hist = False, hist=True, kde=False,hist_kws={\"range\": [0,0.025]})\n",
    "plt.xlabel(\"Error = |Predicted - Test|\")\n",
    "#plt.xlabel(\"Error = (Predicted - Target) /Target\")\n",
    "plt.ylabel(\"Counts\")\n",
    "plt.title(\"Train\") # You can comment this line out if you don't need title\n",
    "plt.show(fig)"
   ]
  },
  {
   "cell_type": "code",
   "execution_count": 52,
   "metadata": {},
   "outputs": [
    {
     "data": {
      "image/png": "[encoded data removed]",
      "text/plain": [
       "<Figure size 432x288 with 1 Axes>"
      ]
     },
     "metadata": {},
     "output_type": "display_data"
    }
   ],
   "source": [
    "#prediction = scaler_y.inverse_transform(test_predict)\n",
    "#target = scaler_y.inverse_transform(y_test)\n",
    "\n",
    "\n",
    "prediction = test_predict\n",
    "target = y_test\n",
    "\n",
    "#test_error = np.abs(np.power(2,prediction) - np.power(2,target))\n",
    "#test_error = (prediction - target) /target\n",
    "#test_error = (y_test - test_predict)/test_predict\n",
    "test_error = np.abs(prediction - target)\n",
    "fig = sns.distplot(test_error, norm_hist = False, hist=True, kde=False,hist_kws={\"range\": [0,0.025]});\n",
    "plt.xlabel(\"Error = |Predicted - Test|\")\n",
    "#plt.xlabel(\"Error = (Predicted - Target) /Target\")\n",
    "plt.ylabel(\"Counts\")\n",
    "plt.title(\"Test\") # You can comment this line out if you don't need title\n",
    "plt.show(fig)"
   ]
  },
  {
   "cell_type": "code",
   "execution_count": 48,
   "metadata": {},
   "outputs": [
    {
     "name": "stdout",
     "output_type": "stream",
     "text": [
      "train_mean_error=0.002303239914396957, test_mean_error=0.0023162405353043354\n"
     ]
    }
   ],
   "source": [
    "train_mean_error = np.mean(train_error)\n",
    "test_mean_error = np.mean(test_error)\n",
    "print(\"train_mean_error=%s, test_mean_error=%s\" % (train_mean_error, test_mean_error))"
   ]
  },
  {
   "cell_type": "code",
   "execution_count": 345,
   "metadata": {},
   "outputs": [],
   "source": [
    "model.save(\"radiology_ann_model.h5\")"
   ]
  },
  {
   "cell_type": "code",
   "execution_count": null,
   "metadata": {},
   "outputs": [],
   "source": []
  }
 ],
 "metadata": {
  "kernelspec": {
   "display_name": "Python 3",
   "language": "python",
   "name": "python3"
  },
  "language_info": {
   "codemirror_mode": {
    "name": "ipython",
    "version": 3
   },
   "file_extension": ".py",
   "mimetype": "text/x-python",
   "name": "python",
   "nbconvert_exporter": "python",
   "pygments_lexer": "ipython3",
   "version": "3.7.5"
  }
 },
 "nbformat": 4,
 "nbformat_minor": 2
}
